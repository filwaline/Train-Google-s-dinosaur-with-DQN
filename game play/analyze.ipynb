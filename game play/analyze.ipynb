{
 "cells": [
  {
   "cell_type": "code",
   "execution_count": 1,
   "metadata": {
    "collapsed": true
   },
   "outputs": [],
   "source": [
    "import pickle\n",
    "import numpy as np\n",
    "import matplotlib.pyplot as plt\n",
    "import cv2\n",
    "\n",
    "from collections import deque\n",
    "from moviepy.editor import *\n",
    "from IPython.core.display import HTML\n",
    "\n",
    "%matplotlib inline"
   ]
  },
  {
   "cell_type": "code",
   "execution_count": 2,
   "metadata": {
    "collapsed": true
   },
   "outputs": [],
   "source": [
    "def preprocessFunc(imagesGen,actionsGen,slideSize=4):\n",
    "    # image should be 150*600*3 nparray\n",
    "    # action should be String \n",
    "    shortTermMemory = deque([],slideSize)\n",
    "    vertices = np.array([[(430,30),(430,0),(600,0),(600,30)]]) \n",
    "    while True:\n",
    "        img = next(imagesGen)\n",
    "        act = next(actionsGen)\n",
    "        \n",
    "        img = cv2.cvtColor(img,cv2.COLOR_BGR2GRAY) # gray scale   (150,600)\n",
    "        img = cv2.fillPoly(img,vertices,(255))     # override score\n",
    "        img = cv2.GaussianBlur(img,(5,5),0)\n",
    "        img = cv2.Canny(img,100,200)\n",
    "#         img = cv2.resize(img,(120,30),interpolation=cv2.INTER_AREA) # (30,120)\n",
    "        img = img[:,:,None] # (30,120) -> (30,120,1)\n",
    "        \n",
    "        shortTermMemory.append(img)\n",
    "        \n",
    "        if len(shortTermMemory) == slideSize:\n",
    "            state  = np.concatenate(shortTermMemory,axis=2) # (30,120,4)\n",
    "            action = act if act != 'Space' else 'Up'\n",
    "            yield state,action"
   ]
  },
  {
   "cell_type": "code",
   "execution_count": 28,
   "metadata": {
    "collapsed": false
   },
   "outputs": [],
   "source": [
    "with open(\"human/human_0043.p\",'rb') as f:\n",
    "    imgs,acts = pickle.load(f)"
   ]
  },
  {
   "cell_type": "code",
   "execution_count": 29,
   "metadata": {
    "collapsed": false
   },
   "outputs": [],
   "source": [
    "imgGen = (img for img in imgs)\n",
    "actGen = (act for act in acts)\n",
    "preprocess = preprocessFunc(imgGen,actGen,3)\n",
    "imgSeq = [img for img,act in preprocess]"
   ]
  },
  {
   "cell_type": "code",
   "execution_count": 30,
   "metadata": {
    "collapsed": false
   },
   "outputs": [
    {
     "name": "stdout",
     "output_type": "stream",
     "text": [
      "[MoviePy] >>>> Building video preview.mp4\n",
      "[MoviePy] Writing video preview.mp4\n"
     ]
    },
    {
     "name": "stderr",
     "output_type": "stream",
     "text": [
      "100%|█████████████████████████████████████████████████████████████████████████████| 1711/1711 [00:04<00:00, 369.92it/s]\n"
     ]
    },
    {
     "name": "stdout",
     "output_type": "stream",
     "text": [
      "[MoviePy] Done.\n",
      "[MoviePy] >>>> Video ready: preview.mp4 \n",
      "\n"
     ]
    }
   ],
   "source": [
    "clip = ImageSequenceClip(imgSeq, fps=50)\n",
    "clip.write_videofile('preview.mp4')"
   ]
  },
  {
   "cell_type": "code",
   "execution_count": 31,
   "metadata": {
    "collapsed": false
   },
   "outputs": [
    {
     "data": {
      "text/html": [
       "\n",
       "    <video controls src=\"preview.mp4\" autoplay width=600px/> \n",
       "    "
      ],
      "text/plain": [
       "<IPython.core.display.HTML object>"
      ]
     },
     "execution_count": 31,
     "metadata": {},
     "output_type": "execute_result"
    }
   ],
   "source": [
    "HTML(\"\"\"\n",
    "    <video controls src=\"{0}\" autoplay width=600px/> \n",
    "    \"\"\".format('preview.mp4')\n",
    ")"
   ]
  },
  {
   "cell_type": "code",
   "execution_count": 32,
   "metadata": {
    "collapsed": false
   },
   "outputs": [
    {
     "name": "stdout",
     "output_type": "stream",
     "text": [
      "[None, None, None, None, None, None, None, None, None, None, None, None, None, None, None, None, None, None, None, None, None, None, None, None, None, None, None, None, 'Space', 'Space', None, None, None, None, None, None, None, None, None, None, None, None, None, None, None, None, None, None, None, None, None, None, None, None, None, None, None, None, None, None, None, None, 'Space', 'Space', None, None, None, None, None, None, None, None, None, None, None, None, None, None, None, 'Space', 'Space', 'Space', None, None, None, None, None, None, None, None, None, None, None, None, None, None, None, None, None, 'Space', 'Space', 'Space', None, None, None, None, None, None, None, None, None, None, None, 'Space', 'Space', 'Space', None, None, None, None, None, None, None, None, None, None, 'Space', 'Space', 'Space', None, None, None, None, None, None, None, None, None, None, None, None, None, None, None, None, None, None, None, None, None, None, None, None, None, None, None, None, None, None, None, 'Space', 'Space', None, None, None, None, None, None, None, None, None, None, None, None, None, None, 'Space', 'Space', 'Space', None, None, None, None, None, None, None, None, None, None, None, None, None, None, None, 'Space', 'Space', 'Space', 'Space', None, None, None, None, None, None, None, None, None, None, None, None, None, None, 'Space', 'Space', None, None, None, None, None, None, None, None, None, None, None, None, None, None, None, None, 'Space', 'Space', 'Space', None, None, None, None, None, None, None, None, None, None, 'Space', 'Space', 'Space', 'Space', None, None, None, None, None, None, None, None, None, None, 'Space', 'Space', 'Space', None, None, None, None, None, None, None, None, None, None, None, None, None, None, None, None, None, None, None, 'Space', 'Space', 'Space', 'Space', None, None, None, None, None, None, None, None, None, 'Space', 'Space', 'Space', None, None, None, None, None, None, None, None, None, 'Space', 'Space', 'Space', None, None, None, None, None, None, None, None, None, None, None, None, None, None, None, None, None, None, None, None, None, None, None, None, None, None, 'Space', 'Space', None, None, None, None, None, None, None, None, None, None, None, None, None, None, None, None, None, None, None, 'Space', 'Space', 'Space', None, None, None, None, None, None, None, None, None, None, None, None, None, None, None, None, None, None, None, None, None, 'Space', 'Space', 'Space', None, None, None, None, None, None, None, None, None, None, None, None, None, None, None, None, None, None, None, None, None, None, None, None, None, None, None, 'Space', 'Space', 'Space', None, None, None, None, None, None, None, None, None, None, None, None, None, None, None, None, None, 'Space', 'Space', 'Space', None, None, None, None, None, None, None, None, None, None, None, None, 'Space', 'Space', 'Space', None, None, None, None, None, None, None, None, None, None, None, None, 'Space', 'Space', 'Space', None, None, None, None, None, None, None, None, None, None, 'Space', 'Space', None, None, None, None, None, None, None, None, None, None, None, None, None, None, None, None, None, None, None, None, None, 'Space', 'Space', 'Space', 'Space', None, None, None, None, None, None, None, None, None, None, None, None, None, None, None, None, None, None, None, 'Space', 'Space', 'Space', None, None, None, None, None, None, None, None, None, 'Space', 'Space', 'Space', None, None, None, None, None, None, None, None, None, None, None, None, None, None, None, None, None, None, None, None, None, None, None, None, None, 'Space', 'Space', None, None, None, None, None, None, None, None, None, None, None, None, None, None, 'Space', 'Space', 'Space', None, None, None, None, None, None, None, None, None, None, None, None, None, None, None, None, None, None, None, None, 'Space', 'Space', 'Space', None, None, None, None, None, None, None, None, None, 'Space', 'Space', 'Space', 'Space', None, None, None, None, None, None, None, None, None, None, None, None, None, None, None, None, None, None, None, None, None, None, None, 'Space', 'Space', 'Space', None, None, None, None, None, None, None, None, None, None, None, None, None, None, None, None, None, None, None, None, None, None, 'Space', 'Space', 'Space', 'Space', None, None, None, None, None, None, None, None, None, None, None, None, None, None, None, None, None, None, None, 'Space', 'Space', 'Space', None, None, None, None, None, None, None, None, None, 'Space', 'Space', 'Space', 'Space', None, None, None, None, None, None, None, None, None, None, None, None, None, None, None, None, None, None, None, None, 'Space', 'Space', 'Space', None, None, None, None, None, None, None, None, None, None, None, 'Space', 'Space', None, None, None, None, None, None, None, None, None, None, None, None, None, None, None, None, None, None, None, None, None, None, None, None, 'Space', 'Space', 'Space', None, None, None, None, None, None, None, None, None, None, None, None, None, None, None, None, None, None, None, None, None, None, None, None, None, None, None, None, None, None, None, None, None, None, None, None, None, None, None, None, None, None, None, None, None, None, None, None, None, None, 'Space', 'Space', 'Space', None, None, None, None, None, None, None, None, None, None, None, None, None, None, None, None, None, None, None, None, 'Space', 'Space', 'Space', 'Space', None, None, None, None, None, None, None, None, None, 'Space', 'Space', 'Space', None, None, None, None, None, None, None, None, None, 'Space', 'Space', 'Space', None, None, None, None, None, None, None, None, None, None, None, None, None, None, None, None, None, None, None, None, None, None, 'Space', 'Space', 'Space', None, None, None, None, None, None, None, None, None, None, None, None, None, None, None, None, None, 'Down', 'Down', 'Down', 'Down', 'Down', 'Down', 'Down', 'Down', 'Down', 'Down', None, None, None, None, None, None, None, None, None, None, None, None, 'Space', 'Space', None, None, None, None, None, None, None, None, None, None, None, None, None, None, 'Space', 'Space', None, None, None, None, None, None, None, None, None, None, None, None, None, None, None, 'Space', 'Space', 'Space', None, None, None, None, None, None, None, None, None, None, None, None, None, None, None, None, None, None, None, None, None, None, None, None, None, None, None, None, None, None, 'Space', 'Space', None, None, None, None, None, None, None, None, None, None, None, None, None, None, 'Space', 'Space', 'Space', None, None, None, None, None, None, None, None, None, None, None, None, None, None, None, 'Space', 'Space', None, None, None, None, None, None, 'Space', 'Space', 'Space', 'Space', None, None, None, None, None, None, None, None, None, None, None, None, None, None, None, None, 'Space', 'Space', None, None, None, None, None, None, None, None, None, None, None, None, None, 'Space', 'Space', None, None, None, None, None, None, None, None, None, None, None, None, None, None, 'Space', 'Space', None, None, None, None, None, None, None, 'Space', 'Space', None, None, None, None, None, None, None, 'Space', 'Space', None, None, None, None, None, None, None, None, None, None, None, None, None, None, None, None, None, 'Space', 'Space', None, None, None, None, None, None, None, None, None, None, None, None, None, 'Space', 'Space', None, None, None, None, None, None, None, None, None, None, None, None, None, None, 'Down', 'Down', 'Down', 'Down', 'Down', None, None, None, None, None, None, None, 'Space', 'Space', 'Space', None, None, None, None, None, None, None, None, None, None, None, None, None, 'Space', 'Space', 'Space', None, None, None, None, None, None, None, None, None, None, None, None, None, 'Space', 'Space', None, None, None, None, None, None, None, None, None, None, None, None, 'Space', 'Space', 'Space', None, None, None, None, None, None, None, None, None, 'Space', 'Space', 'Space', None, None, None, None, None, None, None, None, None, None, None, None, None, None, None, None, None, None, None, None, None, None, None, None, None, None, None, 'Space', 'Space', 'Space', None, None, None, None, None, None, None, None, None, None, None, None, None, None, None, None, None, None, None, None, None, None, None, None, None, None, 'Space', 'Space', 'Space', None, None, None, None, None, None, None, None, None, None, None, None, None, None, 'Space', 'Space', 'Space', None, None, None, None, None, None, None, None, 'Space', 'Space', None, None, None, None, None, None, None, None, None, None, None, None, None, None, 'Space', 'Space', None, None, None, None, None, None, None, None, 'Space', 'Space', None, None, None, None, None, None, None, None, None, None, None, None, None, None, None, 'Down', 'Down', 'Down', 'Down', 'Down', 'Down', 'Down', None, None, None, None, None, None, None, None, None, None, None, None, None, None, None, None, None, None, None, None, None, None, 'Space', 'Space', None, None, None, None, None, None, None, None, None, 'Space', 'Space', None, None, None, None, None, None, None, None, None, None, None, None, None, None, None, None, None, None, None, 'Space', 'Space', 'Space', None, None, None, None, None, None, None, None, None, None, None, None, None, None, None, None, None, None, None, None, None, None, 'Space', 'Space', None, None, None, None, None, None, None, None, None, None, None, 'Space', 'Space', None, None, None, None, None, None, None, None, None, None, None, None, 'Space', 'Space', None, None, None, None, None, None, None, None, None, None, None, None, 'Space', 'Space', 'Space', None, None, None, None, None, None, None, None, None, None, None, None, 'Space', 'Space', None, None, None, None, None, None, None, None, None, None, 'Space', 'Space', None, None, None, None, None, None, None, None, None, None, 'Space', 'Space', 'Space', None, None, None, None, None, None, None, None, None, None, None, None, None, None, None, None, None, None, None, None, None, 'Space', 'Space', None, None, None, None, None, None, None, None, None, None, None, None, 'Space', 'Space', 'Space', None, None, None, None, None, None, None, 'Space', 'Space', None, None, None, None, None, None, None, None, None, None, 'Space', 'Space', 'Space', None, None, None, None, None, None, None, None, None, None, None, None, None, 'Down', 'Down', 'Down', 'Down', None, None, None, None, None, None, 'Space', 'Space', 'Space', None, None, None, None, None, None, None, None, None, None, None, 'Space', 'Space', None, None, None, None, None, None, None, None, 'Space', 'Space', 'Space', None, None, None, None, None, None, None, None, None, None, None, 'Space', 'Space', None, None, None, None, None, None, 'Down', 'Down', 'Down', 'Down', 'Down', None, None, None, None, None, None, None, 'Space', 'Space', 'Space', None, None, None, None, None, None, None, None, None, None, 'Space', 'Space', None, None, None, None, None, None, None, None, None, None, None, 'Space', 'Space', None, None, None, None, None, None, None, None, None, 'Space', 'Space', None, None, None, None, None, None, 'Space', 'Space', None, None]\n"
     ]
    }
   ],
   "source": [
    "print(acts)"
   ]
  },
  {
   "cell_type": "code",
   "execution_count": 7,
   "metadata": {
    "collapsed": true
   },
   "outputs": [],
   "source": [
    "# fig,axes = plt.subplots(10,2,figsize=(32,64))\n",
    "\n",
    "# for i in range(10):\n",
    "#     index = np.random.randint(0,372)\n",
    "#     axes[i,0].imshow(imgs[index])\n",
    "#     axes[i,0].axis('off')\n",
    "#     axes[i,0].text(400,30,acts[index],fontsize=12)\n",
    "#     axes[i,1].imshow(imgs[index],cmap='gray')\n",
    "#     axes[i,1].axis('off')"
   ]
  }
 ],
 "metadata": {
  "kernelspec": {
   "display_name": "Python [Root]",
   "language": "python",
   "name": "Python [Root]"
  },
  "language_info": {
   "codemirror_mode": {
    "name": "ipython",
    "version": 3
   },
   "file_extension": ".py",
   "mimetype": "text/x-python",
   "name": "python",
   "nbconvert_exporter": "python",
   "pygments_lexer": "ipython3",
   "version": "3.5.2"
  }
 },
 "nbformat": 4,
 "nbformat_minor": 0
}
